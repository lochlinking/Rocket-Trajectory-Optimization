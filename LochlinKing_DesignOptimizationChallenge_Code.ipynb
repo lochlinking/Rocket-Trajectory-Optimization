{
 "cells": [
  {
   "cell_type": "markdown",
   "metadata": {},
   "source": [
    "Find design variables $x$ = ($D_{body}$,$D_{tank}$,$L_{body}$,$L_{oxtank}$,$L_{fueltank}$) to\n",
    "\n",
    "Minimize:\n",
    "\n",
    "$\\Delta$$v$($x$) = $-$$I_{sp}$$g_o$$ln$($\\frac{m_0}{m_f}$)\n",
    "\n",
    "s.t. 1 equality constraint\n",
    "\n",
    "$\\frac{m_{ox}}{m_{fuel}}$ $-$ $2.5$ = $0$\n",
    "\n",
    "And 4 inequality constraints\n",
    "\n",
    "$\\frac{T}{m_0g_0}$ $-$ $ 3 > 0$\n",
    "\n",
    "$D_{body}$ - ($D_{tank}$ + $body tank gap$) $> 0$\n",
    "\n",
    "$L_{body} - L_{ox} - L_{fuel} - 2D_{tank} - additional space > 0$\n",
    "\n",
    "$\\frac{L_{body}}{D_{body}}$ $-$ $4 > 0$\n",
    "\n",
    "with bounds:\n",
    "\n",
    "$0 < D_{body} < 3$\n",
    "\n",
    "$0 < D_{tank} < 3$\n",
    "\n",
    "$0 < L_{body} < 24$\n",
    "\n",
    "$0 < L_{oxtank} < 24$\n",
    "\n",
    "$0 < L_{fueltank} < 24$"
   ]
  },
  {
   "cell_type": "code",
   "execution_count": 1,
   "metadata": {},
   "outputs": [],
   "source": [
    "# Importing various libraries\n",
    "\n",
    "import numpy as np\n",
    "from scipy.optimize import minimize\n",
    "from math import exp\n",
    "# Definition of parameters\n",
    "pi = np.pi\n",
    "rho_al = 2700 # [kg/m**3]\n",
    "rho_ox = 1141 # [kg/m**3]\n",
    "rho_fuel = 804 # [kg/m**3]\n",
    "m_payload = 10.0 # [kg]\n",
    "m_engine = 15.0 # [kg]\n",
    "P_op = 2.5 # [MPa]\n",
    "sigma_al = 240 # [MPa]\n",
    "I_sp = 250 # [s]\n",
    "g_0 = 9.81 # [m/s**2]\n",
    "T = 10000 # [N]\n",
    "body_tank_gap = 0.2 # [m]\n",
    "additional_space = 0.5 # [m]\n",
    "# Initial design variables \n",
    "\n",
    "x0 = np.array([0.5, 0.5, 4, 1, 1]) # (D_body,D_tank,L_body,L_oxtank,L_fueltank)\n",
    "\n",
    "# Function to calculate the intial and final mass of the rocket\n",
    "\n",
    "def m0_and_mf(x):\n",
    "    m_body = 0.002*pi*rho_al*x[0]*x[2]\n",
    "    m_fairing = (0.002*pi*rho_al*x[0])/(75*x[0]**2)*(101/8*101**0.5*x[0]**3)\n",
    "    m_ox = rho_ox * (pi/6 * x[1]**3 + pi/4 * x[0]**2 * x[3])\n",
    "    m_fuel = rho_fuel*(pi/6*x[1]**3+pi/4*x[0]**2*x[4])\n",
    "    m_oxtank = (pi*rho_ox*x[1]**2*P_op)/(4*sigma_al)*(x[3] + 1/(3**0.5))\n",
    "    m_fueltank = (pi*rho_fuel*x[1]**2*P_op)/(4*sigma_al)*(x[4] + 1/(3**0.5))\n",
    "    m_0 = m_payload+m_engine+m_body+m_fairing+m_ox+m_fuel+m_oxtank+m_fueltank\n",
    "    m_f = m_0-m_ox-m_fuel   \n",
    "\n",
    "    return m_0, m_f\n",
    "\n",
    "# Definition of the objective function\n",
    "                                                     \n",
    "def objective(x):\n",
    "    m_0, m_f = m0_and_mf(x)\n",
    "    return -I_sp*g_0*np.log(m_0/m_f)\n",
    "\n",
    "# Definition of equality constraint\n",
    "\n",
    "def constraint1(x):\n",
    "    m_ox = rho_ox * (pi/6 * x[1]**3 + pi/4 * x[0]**2 * x[3])\n",
    "    m_fuel = rho_fuel*(pi/6*x[1]**3+pi/4*x[0]**2*x[4])\n",
    "    return m_ox/m_fuel - 2.5\n",
    "\n",
    "def constraint2(x):\n",
    "    m_0, m_f = m0_and_mf(x)\n",
    "    return T/(m_0 * g_0 + 1e-09 ) - 3\n",
    "\n",
    "# Definition of inequality constraints\n",
    "\n",
    "def constraint3(x):\n",
    "    return x[0] - (x[1] + body_tank_gap)\n",
    "\n",
    "def constraint4(x):\n",
    "    return x[2] - x[3] - x[4] - additional_space - 2*x[1]\n",
    "\n",
    "def constraint5(x):\n",
    "    return x[2]/x[0] - 4\n",
    "\n",
    "# Definition of bounds on design varibles\n",
    "\n",
    "d_bnds = (0.25,4.0)\n",
    "L_bnds = (0.25,32.0)\n",
    "bnds = (d_bnds,d_bnds,L_bnds,L_bnds,L_bnds)\n",
    "\n",
    "# Conversion of constraints into a form accepted by the \"minimize\" function\n",
    "\n",
    "con1 = {'type': 'eq','fun': constraint1}\n",
    "con2 = {'type': 'ineq', 'fun': constraint2}\n",
    "con3 = {'type': 'ineq', 'fun': constraint3}\n",
    "con4 = {'type': 'ineq', 'fun': constraint4}\n",
    "con5 = {'type': 'ineq', 'fun': constraint5}\n",
    "cons = [con1, con2, con3, con4, con5]\n"
   ]
  },
  {
   "cell_type": "code",
   "execution_count": 2,
   "metadata": {
    "scrolled": true
   },
   "outputs": [
    {
     "name": "stdout",
     "output_type": "stream",
     "text": [
      "     fun: -4573.848745853717\n",
      "     jac: array([-5901.01245117,  -922.61724854,   300.61553955, -1286.81018066,\n",
      "        -906.74456787])\n",
      " message: 'Positive directional derivative for linesearch'\n",
      "    nfev: 42\n",
      "     nit: 11\n",
      "    njev: 7\n",
      "  status: 8\n",
      " success: False\n",
      "       x: array([0.45      , 0.25000001, 2.6690286 , 1.0788477 , 0.59018088])\n"
     ]
    }
   ],
   "source": [
    "# Solver setup\n",
    "\n",
    "sol = minimize(objective,x0,method='SLSQP',bounds=bnds,constraints=cons, tol='1e-09')\n",
    "options = {'ftol': 1e-09, 'eps': 1e-09}\n",
    "\n",
    "print(sol)"
   ]
  },
  {
   "cell_type": "code",
   "execution_count": 3,
   "metadata": {},
   "outputs": [
    {
     "name": "stdout",
     "output_type": "stream",
     "text": [
      "Maximum Delta-V: 4573.848745853717 m/s\n",
      "Body Diameter: 0.4499999972566612 m\n",
      "Tank Diameter: 0.25000001457397325 m\n",
      "Nosecone Length: 1.124999993141653 m\n",
      "Body Length: 2.6690285959262425 m\n",
      "Oxygen Tank Cylinder Length: 1.0788477025898282 m\n",
      "Fuel Tank Cylinder Length: 0.5901808826921887 m\n",
      "Mass of Oxygen: 205.1113441995535 kg\n",
      "Mass of Kerosene: 82.04453768043456 kg\n",
      "Initial Mass: 339.7893293790561 kg\n",
      "Final Mass: 52.63344749906801 kg\n",
      "Burn time: 70.42498003106708 s\n"
     ]
    }
   ],
   "source": [
    "# Post-processing optimization results into usable data\n",
    "\n",
    "delta_v = -1 * sol.fun\n",
    "m_0, m_f = m0_and_mf(sol.x)\n",
    "mass_ox = rho_ox * (pi/6 * sol.x[1]**3 + pi/4 * sol.x[0]**2 * sol.x[3])\n",
    "mass_fuel = rho_fuel*(pi/6*sol.x[1]**3+pi/4*sol.x[0]**2*sol.x[4])\n",
    "burn_time = m_0*I_sp*g_0*(1-exp(-delta_v/(I_sp*g_0)))/T\n",
    "\n",
    "# Print out results\n",
    "\n",
    "print('Maximum Delta-V: {} m/s'.format(delta_v))\n",
    "print('Body Diameter: {} m'.format(sol.x[0]))\n",
    "print('Tank Diameter: {} m'.format(sol.x[1]))\n",
    "print('Nosecone Length: {} m'.format(sol.x[0]*2.5))\n",
    "print('Body Length: {} m'.format(sol.x[2]))\n",
    "print('Oxygen Tank Cylinder Length: {} m'.format(sol.x[3]))\n",
    "print('Fuel Tank Cylinder Length: {} m'.format(sol.x[4]))\n",
    "print('Mass of Oxygen: {} kg'.format(mass_ox))\n",
    "print('Mass of Kerosene: {} kg'.format(mass_fuel))\n",
    "print('Initial Mass: {} kg'.format(m_0))\n",
    "print('Final Mass: {} kg'.format(m_f))\n",
    "print('Burn time: {} s'.format(burn_time))\n"
   ]
  },
  {
   "cell_type": "code",
   "execution_count": 11,
   "metadata": {},
   "outputs": [
    {
     "name": "stdout",
     "output_type": "stream",
     "text": [
      "The solver successfully reached the end of the integration interval.\n",
      "True\n"
     ]
    },
    {
     "data": {
      "image/png": "[encoded data removed]",
      "text/plain": [
       "<Figure size 432x288 with 1 Axes>"
      ]
     },
     "metadata": {
      "needs_background": "light"
     },
     "output_type": "display_data"
    },
    {
     "data": {
      "image/png": "[encoded data removed]",
      "text/plain": [
       "<Figure size 432x288 with 1 Axes>"
      ]
     },
     "metadata": {
      "needs_background": "light"
     },
     "output_type": "display_data"
    },
    {
     "data": {
      "image/png": "[encoded data removed]",
      "text/plain": [
       "<Figure size 432x288 with 1 Axes>"
      ]
     },
     "metadata": {
      "needs_background": "light"
     },
     "output_type": "display_data"
    },
    {
     "name": "stdout",
     "output_type": "stream",
     "text": [
      "Predicted Apogee: 178312.6011756544 m\n"
     ]
    }
   ],
   "source": [
    "from scipy.integrate import solve_ivp\n",
    "\n",
    "# Definition of parameters\n",
    "\n",
    "C_d = 0.5\n",
    "# rho_a = 1.204 # [kg/m**3]\n",
    "rho_a = 0.01841 # [kg/m**3] if launched from 30 km\n",
    "A_ref = sol.x[0]**2 # [m**2]\n",
    "sim_time = 200 # [s]\n",
    "sim_int = int((sim_time + 1) / 0.01)\n",
    "def f(t, y):\n",
    "    \n",
    "    rocket_velocity = y[0]\n",
    "    rocket_altitude = y[1]\n",
    "    \n",
    "    if (t <= burn_time):\n",
    "        T = 10000\n",
    "        rocket_mass = m_0 - T/(I_sp*g_0)*t\n",
    "    else:\n",
    "        T = 0\n",
    "        rocket_mass = m_f\n",
    "    \n",
    "    dvdt = ((T-rocket_mass*g_0-0.5*C_d*rho_a*A_ref*rocket_velocity**2)/rocket_mass)\n",
    "    dxdt = rocket_velocity\n",
    "    \n",
    "    return np.array([dvdt, dxdt])\n",
    "\n",
    "# Solve 1D rigid body motion equation for rocket using RK45 ODE method\n",
    "\n",
    "y0 = np.array([0, 30000])\n",
    "t_span = np.array([0, sim_time])\n",
    "times = np.linspace(t_span[0], t_span[1], sim_int)\n",
    "soln = solve_ivp(f, t_span, y0, t_eval=times)\n",
    "t = soln.t\n",
    "rocket_velocity = soln.y[0]\n",
    "rocket_altitude = soln.y[1]\n",
    "print(soln.message)\n",
    "print(soln.success)\n",
    "\n",
    "# Visualize the solution\n",
    "\n",
    "import matplotlib.pyplot as plt\n",
    "\n",
    "# Delta-V vs. m0/mf plot\n",
    "\n",
    "m_frac = np.linspace(1, 20, 210)\n",
    "del_v = I_sp*g_0*np.log(m_frac)\n",
    "plt.rcParams[\"font.family\"] = \"serif\"\n",
    "plt.plot(m_frac,del_v, 'k-', linewidth=1)\n",
    "plt.plot(m_0/m_f,delta_v,\"ko\", markersize=5)\n",
    "plt.annotate('Optimal Point',(m_0/m_f + 0.5,delta_v - 100))\n",
    "plt.xlabel('m_0/m_f')\n",
    "plt.ylabel('Delta-V (m/s)')\n",
    "plt.title('Optimum Solution')\n",
    "plt.savefig('opt_sol_plt.png', bbox_inches='tight', transparent=True)\n",
    "plt.show()\n",
    "\n",
    "# Altitude plot\n",
    "\n",
    "plt.plot(t, rocket_altitude, 'k-', linewidth=1)\n",
    "plt.xlabel('Time (s)')\n",
    "plt.ylabel('Altitude (m)')\n",
    "plt.title('1D Rocket Trajectory')\n",
    "plt.savefig('opt_alt_plt.png', bbox_inches='tight', transparent=True)\n",
    "plt.show()\n",
    "\n",
    "# Velocity plot\n",
    "\n",
    "plt.plot(t, rocket_velocity, 'k-', linewidth=1)\n",
    "plt.xlabel('Time (s)')\n",
    "plt.ylabel('Velocity (m/s)')\n",
    "plt.title('1D Rocket Velocity')\n",
    "plt.savefig('vel_plt.png', bbox_inches='tight', transparent=True)\n",
    "plt.show()\n",
    "# Find the apogee\n",
    "\n",
    "apogee = np.interp(0,soln.y[0],soln.y[1])\n",
    "print('Predicted Apogee: {} m'.format(apogee))"
   ]
  },
  {
   "cell_type": "code",
   "execution_count": null,
   "metadata": {},
   "outputs": [],
   "source": []
  },
  {
   "cell_type": "code",
   "execution_count": null,
   "metadata": {},
   "outputs": [],
   "source": []
  }
 ],
 "metadata": {
  "kernelspec": {
   "display_name": "Python 3",
   "language": "python",
   "name": "python3"
  },
  "language_info": {
   "codemirror_mode": {
    "name": "ipython",
    "version": 3
   },
   "file_extension": ".py",
   "mimetype": "text/x-python",
   "name": "python",
   "nbconvert_exporter": "python",
   "pygments_lexer": "ipython3",
   "version": "3.8.5"
  }
 },
 "nbformat": 4,
 "nbformat_minor": 4
}
